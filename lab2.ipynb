{
 "cells": [
  {
   "cell_type": "markdown",
   "id": "319c83df",
   "metadata": {},
   "source": [
    "# AIC-5102B Lab 2 / Text classification\n",
    "\n",
    "The aim of this lab is to use LDA and its kernelized version to perform text classification. You should work under Linux on ESIEE's machines, where the proper execution of the lab is guaranteed.\n",
    "\n",
    "\n",
    "## 1. Setup\n",
    "\n",
    "\n",
    "You are free to choose the working dataset you wish to work with from Kaggle amongnst the following :\n",
    "- Ecommerce Text Classification\n",
    "- BBC Full Text Document Classification\n",
    "- Text Classification on Emails\n",
    "- Spam Text Message Classification\n",
    "\n",
    "See https://www.kaggle.com/datasets?search=text+classification\n",
    "\n",
    "Moreover, to alleviate the problem we will work with only 2 classes, so you will also have to choose 2 classes amongst those offered by your dataset.\n",
    "\n",
    "You should choose a dataset which contains documents which are long enough, otherwise it is unlikely that the specialized kernel of part 4 will help. Tweets, in particular, are discouraged for that reason. If you wish to use another dataset that those mentioned above, simply ask me for validation.\n",
    "\n",
    "Which dataset and classes did you chose ? Copy the related files to your working directory."
   ]
  },
  {
   "cell_type": "markdown",
   "id": "6b79abd6",
   "metadata": {},
   "source": [
    "## 2. Text vectorization\n",
    "\n",
    "The following functions :\n",
    "- extract the vocabulary from row #5 (that number is arbitrary) of the specified CSV file \n",
    "- build the document-term matrix by reading again the same CSV file\n",
    "\n",
    "Adapt them, so that they fit your dataset and produce a D-T matrix in the end.\n",
    "\n",
    "Please note that:\n",
    "- the tokenization method used is wordpunct_tokenize(), which may not be optimal. You may call something different in case you find really too much garbage in your resulting vocabulary.\n",
    "- there are two \"if\" tests in dtmat_from_file which appear unnecessary so far. They are, indeed, because the test samples may include unseen words, which would generate out-of-bounds index. So unseen words are just ignored.\n",
    "- you may also want to lemmatize. "
   ]
  },
  {
   "cell_type": "code",
   "execution_count": 1,
   "id": "190415fd",
   "metadata": {},
   "outputs": [],
   "source": [
    "import csv\n",
    "import nltk\n",
    "import numpy as np\n",
    "\n",
    "def voc_from_csv(csvfile):\n",
    "    nlines=0\n",
    "    voc=[]\n",
    "    with open(csvfile, errors='ignore') as file:\n",
    "        reader=csv.reader(file, delimiter=',')\n",
    "        for row in reader:\n",
    "            nlines=nlines+1\n",
    "            voc.extend(nltk.wordpunct_tokenize(row[1]))\n",
    "    voc=sorted(set(voc))        \n",
    "    return voc,nlines\n",
    "\n",
    "def dtmat_from_csv(csvfile):\n",
    "    voc,rows=voc_from_csv(csvfile)\n",
    "    cols=len(voc)\n",
    "    mat=np.zeros((rows,cols))\n",
    "    d=0\n",
    "    with open(csvfile,  errors='ignore') as file:\n",
    "        reader=csv.reader(file, delimiter=',')\n",
    "        for row in reader:\n",
    "            w= nltk.wordpunct_tokenize(row[1])\n",
    "            X=np.searchsorted(voc,w,side='left')            \n",
    "            for i in range(0,len(w)):\n",
    "                if (X[i] < cols):\n",
    "                    if (w[i] == voc[X[i]]):\n",
    "                        mat[d][X[i]]+=1\n",
    "            d=d+1\n",
    "    return mat"
   ]
  },
  {
   "cell_type": "markdown",
   "id": "7c4d9a6e",
   "metadata": {},
   "source": [
    "### Question 1 \n",
    "\n",
    "Run dtmat_from_csv on one of your sample dataset. Examine the resulting matrix. How many times does it happen that a given word is seen only once (possibly twice) in your training set ? Give a few lines which show this below."
   ]
  },
  {
   "cell_type": "code",
   "execution_count": 2,
   "id": "cd1b3754",
   "metadata": {},
   "outputs": [
    {
     "name": "stdout",
     "output_type": "stream",
     "text": [
      "Number of words appearing only once: 5797\n",
      "Number of words appearing only twice: 1833\n"
     ]
    }
   ],
   "source": [
    "csvfile = 'SPAM_text_message_20170820_-_Data.csv'\n",
    "document_term_matrix = dtmat_from_csv(csvfile)\n",
    "word_occurrences = np.sum(document_term_matrix, axis=0)\n",
    "words_appearing_once = np.sum((word_occurrences == 1))\n",
    "words_appearing_twice = np.sum((word_occurrences == 2))\n",
    "print(f\"Number of words appearing only once: {words_appearing_once}\")\n",
    "print(f\"Number of words appearing only twice: {words_appearing_twice}\")"
   ]
  },
  {
   "cell_type": "markdown",
   "id": "26b8d219",
   "metadata": {},
   "source": [
    "### Question 2\n",
    "\n",
    "Suppose we use ordinary LDA to separate positive from negative samples, computed by voc_from_csv(). What will be the effect of an increasing number of \"seen only once\" words :\n",
    "- on the memory complexity of the solution ?\n",
    "- on the solution itself ?\n",
    "\n",
    "Write your answer below, either in plain language or using LaTeX notation for formulas if you prefer. This question is purely theoretical and does not require any programming."
   ]
  },
  {
   "cell_type": "markdown",
   "id": "c792012f",
   "metadata": {},
   "source": [
    "### Answer\n",
    "\n",
    "When using ordinary LDA to separate positive from negative samples, an increasing number of \"seen only once\" words can have the following effects:\n",
    "\n",
    "1. **Memory Complexity:**\n",
    "   - **Increase in Memory Usage**\n",
    "\n",
    "2. **Effect on the Solution:**\n",
    "   - **Sparse and Noisy Representation**\n",
    "   - **Overfitting Risk**\n",
    "\n",
    "The memory complexity can be approximated as\n",
    "$$O(N \\times V \\times M)$$\n",
    "With\n",
    "- $N$ number of documents.\n",
    "- $V$ number of words in the vocabulary.\n",
    "- $M$ be the number of \"seen only once\" words."
   ]
  },
  {
   "cell_type": "markdown",
   "id": "62aa9d6f",
   "metadata": {},
   "source": [
    "### Question 3\n",
    "\n",
    "No matter what your answer to question 2 is, add a boolean parameter to voc_from_csv(), say \"purge\", so that when \"purge\" is True, the \"only seen once\" words are *not* included in the vocabulary. There is no need to modify dtmat_from_csv(),which has already been written to take this into account, except from the call to voc_from_csv().\n",
    "Change the block below accordingly:"
   ]
  },
  {
   "cell_type": "code",
   "execution_count": 3,
   "id": "b4b1e8b3",
   "metadata": {},
   "outputs": [],
   "source": [
    "import csv\n",
    "import nltk\n",
    "import numpy as np\n",
    "\n",
    "def voc_from_csv(csvfile, purge=True):\n",
    "    nlines = 0\n",
    "    voc = []\n",
    "    word_count = {}\n",
    "\n",
    "    with open(csvfile, errors='ignore') as file:\n",
    "        reader = csv.reader(file, delimiter=',')\n",
    "        for row in reader:\n",
    "            nlines += 1\n",
    "            tokens = nltk.wordpunct_tokenize(row[1])\n",
    "            voc.extend(tokens)\n",
    "\n",
    "            for token in set(tokens):\n",
    "                word_count[token] = word_count.get(token, 0) + 1\n",
    "\n",
    "    if purge:\n",
    "        voc = [word for word in set(voc) if word_count[word] > 1]\n",
    "\n",
    "    voc = sorted(voc)\n",
    "    return voc, nlines\n",
    "\n",
    "def dtmat_from_csv(csvfile, vocabulary=None):\n",
    "    if vocabulary is None:\n",
    "        vocabulary, rows = voc_from_csv(csvfile)\n",
    "    else:\n",
    "        rows = sum(1 for _ in open(csvfile, 'r', errors='ignore'))  # Count rows without reading the file again\n",
    "\n",
    "    cols = len(vocabulary)\n",
    "    mat = np.zeros((rows, cols), dtype=int)\n",
    "    d = 0\n",
    "\n",
    "    with open(csvfile, errors='ignore') as file:\n",
    "        reader = csv.reader(file, delimiter=',')\n",
    "        for row in reader:\n",
    "            w = nltk.wordpunct_tokenize(row[1])\n",
    "            X = np.searchsorted(vocabulary, w, side='left')\n",
    "            for i in range(len(w)):\n",
    "                if X[i] < cols and w[i] == vocabulary[X[i]]:\n",
    "                    mat[d][X[i]] += 1\n",
    "            d += 1\n",
    "\n",
    "    return mat"
   ]
  },
  {
   "cell_type": "code",
   "execution_count": 4,
   "id": "f58570e2",
   "metadata": {},
   "outputs": [
    {
     "name": "stdout",
     "output_type": "stream",
     "text": [
      "Number of words appearing only once: 0\n"
     ]
    }
   ],
   "source": [
    "csvfile = 'SPAM_text_message_20170820_-_Data.csv'\n",
    "document_term_matrix = dtmat_from_csv(csvfile)\n",
    "word_occurrences = np.sum(document_term_matrix, axis=0)\n",
    "words_appearing_once = np.sum((word_occurrences == 1))\n",
    "print(f\"Number of words appearing only once: {words_appearing_once}\")"
   ]
  },
  {
   "cell_type": "markdown",
   "id": "09b10fb5",
   "metadata": {},
   "source": [
    "## 3. Ordinary LDA\n",
    "\n",
    "### Question 4\n",
    "\n",
    "Write an lda(X1,X2) function which computes and returns the direction predicted by the ordinary LDA given samples X1 and X2, which should be passed as matrices of row vectors. The function should return:\n",
    "- $\\boldsymbol{u}$, the optimal direction\n",
    "- and $s$, the abscissa of the hyperplane (the linear discriminant) on $\\boldsymbol{u}$ which optimally separates the data assuming they are normally distributed after their projection on $\\boldsymbol{u}$\n"
   ]
  },
  {
   "cell_type": "code",
   "execution_count": 5,
   "id": "c107d305",
   "metadata": {},
   "outputs": [],
   "source": [
    "import numpy as np\n",
    "\n",
    "def lda(X1, X2):\n",
    "    mu1 = np.mean(X1, axis=0)\n",
    "    mu2 = np.mean(X2, axis=0)\n",
    "    mu = (mu1 + mu2) / 2\n",
    "    \n",
    "    S1 = np.cov(X1.T)\n",
    "    S2 = np.cov(X2.T)\n",
    "    Sw = S1 + S2\n",
    "\n",
    "    u = np.linalg.inv(Sw) @ (mu1 - mu2)\n",
    "    s = u @ mu\n",
    "    \n",
    "    return u, s"
   ]
  },
  {
   "cell_type": "markdown",
   "id": "c2116dab",
   "metadata": {},
   "source": [
    "### Question 5\n",
    "\n",
    "Test your function on a toy sample. Count how many points are correcly classified. You may use/extend/modify the following piece of code:"
   ]
  },
  {
   "cell_type": "code",
   "execution_count": 6,
   "id": "ac937407",
   "metadata": {},
   "outputs": [
    {
     "data": {
      "image/png": "[encoded data removed]",
      "text/plain": [
       "<Figure size 640x480 with 1 Axes>"
      ]
     },
     "metadata": {},
     "output_type": "display_data"
    },
    {
     "name": "stdout",
     "output_type": "stream",
     "text": [
      "[2.77418181 1.79565151] -1.2959842442696343\n"
     ]
    },
    {
     "data": {
      "image/png": "[encoded data removed]",
      "text/plain": [
       "<Figure size 640x480 with 1 Axes>"
      ]
     },
     "metadata": {},
     "output_type": "display_data"
    },
    {
     "name": "stdout",
     "output_type": "stream",
     "text": [
      "number of points in class 1: 30\n",
      "number of points in class 2: 20\n"
     ]
    }
   ],
   "source": [
    "import matplotlib.pyplot as plt\n",
    "\n",
    "X1=np.random.multivariate_normal([1,2], np.identity(2),30)\n",
    "X2=np.random.multivariate_normal([-3,0], 0.5*np.identity(2),20)\n",
    "plt.scatter(X1[:,0],X1[:,1])\n",
    "plt.scatter(X2[:,0],X2[:,1])\n",
    "plt.show()\n",
    "u,s= lda(X1,X2)\n",
    "print(u,s)\n",
    "\n",
    "x = np.linspace(-4, 3, 100)\n",
    "y = (s - u[0] * x) / u[1]\n",
    "plt.plot(x, y, '-r', label='y=2x+1')\n",
    "plt.scatter(X1[:,0],X1[:,1])\n",
    "plt.scatter(X2[:,0],X2[:,1])\n",
    "plt.show()\n",
    "\n",
    "print(f\"number of points in class 1: {np.sum(X1 @ u > s)}\")\n",
    "print(f\"number of points in class 2: {np.sum(X2 @ u < s)}\")"
   ]
  },
  {
   "cell_type": "markdown",
   "id": "90684a7e",
   "metadata": {},
   "source": [
    "### Question 6\n",
    "\n",
    "Test the same function on your text classes. For at least one of them (most likeley, the lightest), you should normally have a problem. Why ? Add some code to your function to fix it."
   ]
  },
  {
   "cell_type": "code",
   "execution_count": 7,
   "id": "e472e60f",
   "metadata": {},
   "outputs": [
    {
     "name": "stdout",
     "output_type": "stream",
     "text": [
      "Number of spam messages: 747\n",
      "Number of ham messages: 4825\n"
     ]
    }
   ],
   "source": [
    "import pandas as pd\n",
    "\n",
    "csvfile = 'SPAM_text_message_20170820_-_Data.csv'\n",
    "dt_matrix = dtmat_from_csv(csvfile)\n",
    "\n",
    "df = pd.read_csv(csvfile, header=None, names=['Category', 'Message'], encoding='utf-8', delimiter=',')\n",
    "\n",
    "spam_indices = [i for i, label in enumerate(df['Category']) if label == 'spam']\n",
    "ham_indices = [i for i, label in enumerate(df['Category']) if label == 'ham']\n",
    "\n",
    "X1 = dt_matrix[spam_indices, :]\n",
    "X2 = dt_matrix[ham_indices, :]\n",
    "\n",
    "print(f\"Number of spam messages: {len(spam_indices)}\")\n",
    "print(f\"Number of ham messages: {len(ham_indices)}\")"
   ]
  },
  {
   "cell_type": "markdown",
   "id": "8220b517",
   "metadata": {},
   "source": [
    "After running lda on X1 and X2, we encountered the following error:\n",
    "```sh\n",
    "LinAlgError: Singular matrix,\n",
    "```\n",
    "\n",
    "Indicating `Sw` matrix is singular and therefore not invertible. This is because the number of features (columns) in the document-term matrix is greater than the number of samples (rows).\n",
    "\n",
    "To handle this issue, we add a regularization term to the `Sw` matrix before taking its inverse. We add a small multiple of the identity matrix to `Sw` to prevent it from being singular. The modified formula for `Sw` would be:\n",
    "\n",
    "$S_w = S1 + S2 + \\epsilon I$\n",
    "\n",
    "where $\\epsilon$ is a small constant and $I$ is the identity matrix."
   ]
  },
  {
   "cell_type": "code",
   "execution_count": 8,
   "id": "8ec029fc",
   "metadata": {},
   "outputs": [],
   "source": [
    "import numpy as np\n",
    "\n",
    "def lda(X1, X2, epsilon=1e-4):\n",
    "    mu1 = np.mean(X1, axis=0)\n",
    "    mu2 = np.mean(X2, axis=0)\n",
    "    mu = (mu1 + mu2) / 2\n",
    "    \n",
    "    S1 = np.cov(X1.T)\n",
    "    S2 = np.cov(X2.T)\n",
    "    Sw = S1 + S2 + epsilon * np.identity(X1.shape[1])\n",
    "\n",
    "    u = np.linalg.solve(Sw, (mu1 - mu2))\n",
    "    s = u @ mu\n",
    "    \n",
    "    return u, s"
   ]
  },
  {
   "cell_type": "code",
   "execution_count": 9,
   "id": "15493ac8",
   "metadata": {},
   "outputs": [
    {
     "name": "stdout",
     "output_type": "stream",
     "text": [
      "number of points in class 1: 746\n",
      "number of points in class 2: 4825\n"
     ]
    },
    {
     "data": {
      "image/png": "[encoded data removed]",
      "text/plain": [
       "<Figure size 640x480 with 1 Axes>"
      ]
     },
     "metadata": {},
     "output_type": "display_data"
    }
   ],
   "source": [
    "u, s = lda(X1, X2)\n",
    "\n",
    "print(f\"number of points in class 1: {np.sum(X1 @ u > s)}\")\n",
    "print(f\"number of points in class 2: {np.sum(X2 @ u < s)}\")\n",
    "\n",
    "plt.hist(X1 @ u, bins=20, alpha=0.5, label='spam')\n",
    "plt.hist(X2 @ u, bins=20, alpha=0.5, label='ham')\n",
    "plt.legend(loc='upper right')\n",
    "plt.show()"
   ]
  },
  {
   "cell_type": "markdown",
   "id": "6dcc15f6",
   "metadata": {},
   "source": [
    "## 4. Kernelized LDA\n",
    "\n",
    "The kernelized version of LDA is implemented as a kfda package. Its homepage is here: https://pypi.org/project/kfda/\n",
    "You should install it by running pip3 install kfda\n",
    "\n",
    "### Question 7\n",
    "\n",
    "Let $\\boldsymbol{x}$ and $\\boldsymbol{y}$ be any two columns of your D-T matrix (which you may assume TD-IDF normalized or not, it does not change the problem). Consider the inhomogeneous polynomial kernel \n",
    "$$k(\\boldsymbol{x},\\boldsymbol{y})= (1+<\\boldsymbol{x},\\boldsymbol{y}>)^n$$\n",
    "where $n>0$ is integer.\n",
    "\n",
    "- Suppose that $n=2$, and that the above kernel is used in a kernelized LDA. What are the new axes created in the feature space, that didn't exist when $n=1$? Which of these could be useful, and change the solution computed by LDA in the feature space ?\n",
    "- Try to classify using this setup, and report your results. Then increase $n$ (moderately). What causes the computational bottleneck of kernelized LDA ?"
   ]
  },
  {
   "cell_type": "markdown",
   "id": "c81d2157",
   "metadata": {},
   "source": [
    "### Answer\n",
    "\n",
    "When $n = 2$\n",
    "\n",
    "$k(x, y) = (1 + \\langle x, y \\rangle)^2$\n",
    "\n",
    "$k(x, y) = 1 + 2\\langle x, y \\rangle + \\langle x, y \\rangle^2$\n",
    "\n",
    "3 new axes are created:\n",
    "- **Constant Term (1)**: adds a constant axis to the feature space to represent the offset or bias.\n",
    "- **Linear Term ($2\\langle x, y \\rangle$)**: adds a linear axis to the feature space to represent the linear relationship between the two vectors.\n",
    "- **Quadratic Term ($\\langle x, y \\rangle^2$)**: adds a quadratic axis to the feature space to represent the quadratic relationship between the two vectors.\n",
    "\n",
    "When we increase $n$, the computational bottleneck of kernelized LDA is caused by the complexity and memory requirements of the kernel matrix"
   ]
  },
  {
   "cell_type": "code",
   "execution_count": 10,
   "id": "6133d95f",
   "metadata": {},
   "outputs": [],
   "source": [
    "from kfda import Kfda\n",
    "from sklearn.model_selection import train_test_split\n",
    "\n",
    "def setup_train_test(dataset_csv_path):\n",
    "    X = dtmat_from_csv(dataset_csv_path)\n",
    "    y = [row[0] for row in csv.reader(open(csvfile, errors='ignore'), delimiter=',')]\n",
    "    X_train, X_test, y_train, y_test = train_test_split(X[1:], y[1:], test_size=0.2, random_state=42)\n",
    "    return X_train, X_test, y_train, y_test"
   ]
  },
  {
   "cell_type": "code",
   "execution_count": 11,
   "id": "dd80d84a",
   "metadata": {},
   "outputs": [],
   "source": [
    "csvfile = 'SPAM_text_message_20170820_-_Data.csv'\n",
    "X_train, X_test, y_train, y_test = setup_train_test(csvfile)"
   ]
  },
  {
   "cell_type": "code",
   "execution_count": 12,
   "id": "a33eb605",
   "metadata": {},
   "outputs": [
    {
     "name": "stderr",
     "output_type": "stream",
     "text": [
      "e:\\langage-naturel-esiee\\venv\\Lib\\site-packages\\sklearn\\utils\\validation.py:727: FutureWarning: np.matrix usage is deprecated in 1.0 and will raise a TypeError in 1.2. Please convert to a numpy array with np.asarray. For more information see: https://numpy.org/doc/stable/reference/generated/numpy.matrix.html\n",
      "  warnings.warn(\n"
     ]
    },
    {
     "name": "stdout",
     "output_type": "stream",
     "text": [
      "kfda score n=1: 0.9865470852017937\n"
     ]
    }
   ],
   "source": [
    "# n = 1\n",
    "\n",
    "kfda = Kfda(n_components=1, kernel=\"poly\", degree=1)\n",
    "kfda.fit(X_train, y_train)\n",
    "print(f\"kfda score n=1: {kfda.score(X_test, y_test)}\")"
   ]
  },
  {
   "cell_type": "code",
   "execution_count": 13,
   "id": "06e19962",
   "metadata": {},
   "outputs": [
    {
     "name": "stderr",
     "output_type": "stream",
     "text": [
      "e:\\langage-naturel-esiee\\venv\\Lib\\site-packages\\sklearn\\utils\\validation.py:727: FutureWarning: np.matrix usage is deprecated in 1.0 and will raise a TypeError in 1.2. Please convert to a numpy array with np.asarray. For more information see: https://numpy.org/doc/stable/reference/generated/numpy.matrix.html\n",
      "  warnings.warn(\n"
     ]
    },
    {
     "name": "stdout",
     "output_type": "stream",
     "text": [
      "kfda score n=2: 0.9838565022421525\n"
     ]
    }
   ],
   "source": [
    "# lets increase n to 2\n",
    "\n",
    "kfda = Kfda(n_components=1, kernel=\"poly\", degree=2)\n",
    "kfda.fit(X_train, y_train)\n",
    "print(f\"kfda score n=2: {kfda.score(X_test, y_test)}\")"
   ]
  },
  {
   "cell_type": "code",
   "execution_count": 14,
   "id": "a21bbb98",
   "metadata": {},
   "outputs": [
    {
     "name": "stdout",
     "output_type": "stream",
     "text": [
      "svc score: 0.9775784753363229\n"
     ]
    }
   ],
   "source": [
    "# lets try SVM\n",
    "\n",
    "X_train_transformed = kfda.transform(X_train)\n",
    "X_test_transformed = kfda.transform(X_test)\n",
    "\n",
    "from sklearn.svm import SVC\n",
    "clf = SVC()\n",
    "clf.fit(X_train_transformed, y_train)\n",
    "print(f\"svc score: {clf.score(X_test_transformed, y_test)}\")"
   ]
  },
  {
   "cell_type": "markdown",
   "id": "a1fb3b61",
   "metadata": {},
   "source": [
    "### Question 8\n",
    "\n",
    "We will now slightely improve the above kernel by replacing the natural dot product \n",
    "$$<\\boldsymbol{x},\\boldsymbol{y}>$$ \n",
    "by \n",
    "$$ \\sum_i \\min(\\boldsymbol{x}_i, \\boldsymbol{y}_i) $$\n",
    "resulting in\n",
    "\n",
    "$$f(\\boldsymbol{x},\\boldsymbol{y})= (1+\\sum_i \\min(\\boldsymbol{x}_i, \\boldsymbol{y}_i) )^n$$\n",
    "\n",
    "Is $f$ a positive semidefinite kernel ? Either prove that it is, or give a counter-example."
   ]
  },
  {
   "cell_type": "markdown",
   "id": "5430d6bb",
   "metadata": {},
   "source": [
    "### Answer\n",
    "\n",
    "- We proved in class that $\\sum_i \\min(\\boldsymbol{x}_i, \\boldsymbol{y}_i)$ is a PSD kernel. [proof](https://perso.esiee.fr/~hilairex/5I-SI5/TD1-corr.pdf#page=3)\n",
    "- We know that if $k_1(\\boldsymbol{x}, \\boldsymbol{y})$ and $k_2(\\boldsymbol{x}, \\boldsymbol{y})$ are PSD kernels, then any linear combination of them with non-negative coefficients is also a PSD kernel. [proof](http://ciml.info/dl/v0_99/ciml-v0_99-ch11.pdf#page=7)\n",
    "\n",
    "Let's prove that $f$ is a linear combination of PSD kernels with non-negative coefficients.\n",
    "\n",
    "- Let $k(\\boldsymbol{x}, \\boldsymbol{y}) = \\sum_i \\min(\\boldsymbol{x}_i, \\boldsymbol{y}_i)$, which is a **PSD kernel**.\n",
    "- Let $g(t) = (1 + t)^n$, which is a **PSD kernel**.\n",
    "\n",
    "Therefore, $f(\\boldsymbol{x}, \\boldsymbol{y}) = g(k(\\boldsymbol{x}, \\boldsymbol{y}))$ is a **PSD kernel**, because it's the composition of a PSD kernel with a monotonically increasing function."
   ]
  },
  {
   "cell_type": "markdown",
   "id": "45996a2d",
   "metadata": {},
   "source": [
    "### Question 9\n",
    "\n",
    "Irrespective of your answer to question 8, try kfda with $f$ as its kernel. Looking at the source code https://github.com/concavegit/kfda/blob/master/kfda/kfda.py you will notice (line 92) that it relies on the pairwise_kernels function from sklearn to compute the Gram matrix. \n",
    "\n",
    "According to sklearn documentation https://scikit-learn.org/stable/modules/generated/sklearn.metrics.pairwise.pairwise_kernels.html the kernel parameter can be a callable, hence you can supply a function of your own as the kernel argument, possibly using the keywords field (kwds).\n",
    "\n",
    "Report your classification results, possibly varying $n$ (be reasonable with values, high $n$ may cause floating point exceptions, in addition of being meaningless). You should likely obtain decent (~ 75% accuracy, say) but not outstanding results.  This, however, is highly dependent on the dataset and classes you chose."
   ]
  },
  {
   "cell_type": "code",
   "execution_count": 15,
   "id": "cdf8a121",
   "metadata": {},
   "outputs": [],
   "source": [
    "import numpy as np\n",
    "\n",
    "def custom_kernel(X, Y):\n",
    "    return (1 + np.sum(np.minimum(X, Y))) ** 2"
   ]
  },
  {
   "cell_type": "code",
   "execution_count": 16,
   "id": "7a94fee2",
   "metadata": {},
   "outputs": [],
   "source": [
    "csvfile = 'SPAM_text_message_20170820_-_Data.csv'\n",
    "X_train, X_test, y_train, y_test = setup_train_test(csvfile)"
   ]
  },
  {
   "cell_type": "code",
   "execution_count": 17,
   "id": "a99a4fb6",
   "metadata": {},
   "outputs": [
    {
     "name": "stderr",
     "output_type": "stream",
     "text": [
      "e:\\langage-naturel-esiee\\venv\\Lib\\site-packages\\sklearn\\utils\\validation.py:727: FutureWarning: np.matrix usage is deprecated in 1.0 and will raise a TypeError in 1.2. Please convert to a numpy array with np.asarray. For more information see: https://numpy.org/doc/stable/reference/generated/numpy.matrix.html\n",
      "  warnings.warn(\n"
     ]
    },
    {
     "name": "stdout",
     "output_type": "stream",
     "text": [
      "kfda score: 0.5201793721973094\n"
     ]
    }
   ],
   "source": [
    "kfda = Kfda(n_components=1, kernel=custom_kernel)\n",
    "kfda.fit(X_train, y_train)\n",
    "print(f\"kfda score: {kfda.score(X_test, y_test)}\")"
   ]
  },
  {
   "cell_type": "code",
   "execution_count": 18,
   "id": "460c133d",
   "metadata": {},
   "outputs": [
    {
     "name": "stdout",
     "output_type": "stream",
     "text": [
      "svc score: 0.8663677130044843\n"
     ]
    }
   ],
   "source": [
    "# lets try SVM\n",
    "\n",
    "X_train_transformed = kfda.transform(X_train)\n",
    "X_test_transformed = kfda.transform(X_test)\n",
    "\n",
    "from sklearn.svm import SVC\n",
    "clf = SVC()\n",
    "clf.fit(X_train_transformed, y_train)\n",
    "print(f\"svc score: {clf.score(X_test_transformed, y_test)}\")"
   ]
  }
 ],
 "metadata": {
  "kernelspec": {
   "display_name": "Python 3 (ipykernel)",
   "language": "python",
   "name": "python3"
  },
  "language_info": {
   "codemirror_mode": {
    "name": "ipython",
    "version": 3
   },
   "file_extension": ".py",
   "mimetype": "text/x-python",
   "name": "python",
   "nbconvert_exporter": "python",
   "pygments_lexer": "ipython3",
   "version": "3.11.3"
  }
 },
 "nbformat": 4,
 "nbformat_minor": 5
}
